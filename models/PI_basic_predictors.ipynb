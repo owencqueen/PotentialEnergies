{
 "cells": [
  {
   "cell_type": "markdown",
   "metadata": {},
   "source": [
    "# Non-deep learning on PIs \n",
    "This notebook demonstrates Kernel Ridge Regression (KRR), XGBoost, and Support Vector Machine models for predicting potential energies (kcal/mol) of conformations of base structure 1. These models serve as baselines for the deep learning models trained in this study."
   ]
  },
  {
   "cell_type": "code",
   "execution_count": 15,
   "metadata": {},
   "outputs": [],
   "source": [
    "import sys; sys.path.append('..')\n",
    "import numpy as np\n",
    "\n",
    "from sklearn.svm import SVR\n",
    "from sklearn.model_selection import cross_val_score\n",
    "\n",
    "from data.chem_preprocess import PI_data"
   ]
  },
  {
   "cell_type": "markdown",
   "metadata": {},
   "source": [
    "Read in all the PIs with the utility function:"
   ]
  },
  {
   "cell_type": "code",
   "execution_count": 16,
   "metadata": {},
   "outputs": [
    {
     "name": "stderr",
     "output_type": "stream",
     "text": [
      "100%|██████████| 1042/1042 [00:32<00:00, 31.89it/s]\n"
     ]
    }
   ],
   "source": [
    "base_str = '../data/xtb_data/base_'\n",
    "include_structs = [1]\n",
    "dir_list = [base_str + str(i) for i in include_structs]\n",
    "\n",
    "X, y = PI_data(dir_list, verbose=True)"
   ]
  },
  {
   "cell_type": "markdown",
   "metadata": {},
   "source": [
    "## Support Vector Machine"
   ]
  },
  {
   "cell_type": "code",
   "execution_count": 21,
   "metadata": {},
   "outputs": [
    {
     "data": {
      "text/plain": [
       "-0.0076822039443398965"
      ]
     },
     "execution_count": 21,
     "metadata": {},
     "output_type": "execute_result"
    }
   ],
   "source": [
    "svm = SVR()\n",
    "scores = cross_val_score(svm, X, y, scoring='neg_mean_absolute_error')\n",
    "np.mean(scores)"
   ]
  },
  {
   "cell_type": "markdown",
   "metadata": {},
   "source": [
    "## XGBoost"
   ]
  },
  {
   "cell_type": "code",
   "execution_count": 19,
   "metadata": {},
   "outputs": [
    {
     "data": {
      "text/plain": [
       "array([-0.00542064, -0.00398578, -0.00351727, -0.00409976, -0.00362979])"
      ]
     },
     "execution_count": 19,
     "metadata": {},
     "output_type": "execute_result"
    }
   ],
   "source": [
    "from sklearn.ensemble import GradientBoostingRegressor as XGBoost\n",
    "xgb = XGBoost()\n",
    "cross_val_score(xgb, X, y, scoring='neg_mean_absolute_error')"
   ]
  },
  {
   "cell_type": "markdown",
   "metadata": {},
   "source": [
    "## Kernel Ridge Regression"
   ]
  },
  {
   "cell_type": "code",
   "execution_count": 20,
   "metadata": {},
   "outputs": [
    {
     "data": {
      "text/plain": [
       "-0.0069985512556655725"
      ]
     },
     "execution_count": 20,
     "metadata": {},
     "output_type": "execute_result"
    }
   ],
   "source": [
    "from sklearn.kernel_ridge import KernelRidge\n",
    "krr = KernelRidge()\n",
    "# Kernel is default (linear)\n",
    "scores = cross_val_score(krr, X, y, scoring='neg_mean_absolute_error')\n",
    "np.mean(scores)"
   ]
  }
 ],
 "metadata": {
  "interpreter": {
   "hash": "a383a95822d91644b7570f642668dbe20ac1d6a6b19d12abc679b491f2ae2937"
  },
  "kernelspec": {
   "display_name": "Python 3.8.3 64-bit ('base': conda)",
   "name": "python3"
  },
  "language_info": {
   "codemirror_mode": {
    "name": "ipython",
    "version": 3
   },
   "file_extension": ".py",
   "mimetype": "text/x-python",
   "name": "python",
   "nbconvert_exporter": "python",
   "pygments_lexer": "ipython3",
   "version": "3.8.3"
  }
 },
 "nbformat": 4,
 "nbformat_minor": 4
}
