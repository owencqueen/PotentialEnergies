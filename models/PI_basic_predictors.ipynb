{
 "cells": [
  {
   "cell_type": "code",
   "execution_count": 1,
   "metadata": {},
   "outputs": [],
   "source": [
    "import glob, os\n",
    "import numpy as np\n",
    "import pandas as pd\n",
    "import matplotlib.pyplot as plt\n",
    "from functools import partial\n",
    "from tqdm import tqdm\n",
    "\n",
    "from sklearn.svm import SVR\n",
    "from sklearn.model_selection import cross_val_score\n",
    "\n",
    "from ChemTDA import VariancePersist"
   ]
  },
  {
   "cell_type": "markdown",
   "metadata": {},
   "source": [
    "Read in data to `VariancePersist`, try to classify based on PIs:"
   ]
  },
  {
   "cell_type": "code",
   "execution_count": 2,
   "metadata": {},
   "outputs": [],
   "source": [
    "# Define hyperparameters of persistence image:\n",
    "PI_hyp = {\n",
    "    'pixelx': 50,\n",
    "    'pixely': 50,\n",
    "    'myspread': 2,\n",
    "    'showplot': False,\n",
    "    'max_dim': 2\n",
    "}\n",
    "\n",
    "MakePI = partial(VariancePersist, **PI_hyp) # For more readable code later"
   ]
  },
  {
   "cell_type": "code",
   "execution_count": 3,
   "metadata": {},
   "outputs": [
    {
     "name": "stderr",
     "output_type": "stream",
     "text": [
      "100%|██████████| 1042/1042 [00:29<00:00, 35.50it/s]\n"
     ]
    }
   ],
   "source": [
    "all_files = glob.glob(os.path.join('..', 'data', 'initial_data', 'STRUCTS', '*'))\n",
    "energies = pd.read_excel(os.path.join('..', 'data', 'initial_data', 'energies.xlsx'), index_col = 0)\n",
    "\n",
    "X = []\n",
    "y = energies.iloc[:,0].to_numpy() # To list so we can sort later\n",
    "keys = []\n",
    "\n",
    "for i in tqdm(range(len(all_files))):\n",
    "    f = all_files[i]\n",
    "    keys.append(int(os.path.basename(f)[7:-4])) # Gets the number of the file\n",
    "    X.append(MakePI(f))\n",
    "    \n",
    "# Sort to keep labeling consistent:\n",
    "sorting_args = np.argsort(keys)\n",
    "X = [X[i] for i in sorting_args]\n",
    "keys = [keys[i] for i in sorting_args]"
   ]
  },
  {
   "cell_type": "code",
   "execution_count": 4,
   "metadata": {},
   "outputs": [
    {
     "name": "stdout",
     "output_type": "stream",
     "text": [
      "(2500,)\n"
     ]
    }
   ],
   "source": [
    "print(X[0].shape)"
   ]
  },
  {
   "cell_type": "code",
   "execution_count": 5,
   "metadata": {},
   "outputs": [
    {
     "data": {
      "text/plain": [
       "array([-0.15556635, -0.2518944 , -0.2000001 , -0.25118516, -0.09170254])"
      ]
     },
     "execution_count": 5,
     "metadata": {},
     "output_type": "execute_result"
    }
   ],
   "source": [
    "svm = SVR()\n",
    "cross_val_score(svm, X, y, scoring='r2')"
   ]
  },
  {
   "cell_type": "code",
   "execution_count": 6,
   "metadata": {},
   "outputs": [
    {
     "data": {
      "text/plain": [
       "array([-0.05020406, -0.10528115, -0.10594959, -0.04302611,  0.01078493])"
      ]
     },
     "execution_count": 6,
     "metadata": {},
     "output_type": "execute_result"
    }
   ],
   "source": [
    "from sklearn.ensemble import GradientBoostingRegressor as XGBoost\n",
    "xgb = XGBoost()\n",
    "cross_val_score(xgb, X, y, scoring='r2')"
   ]
  },
  {
   "cell_type": "code",
   "execution_count": 9,
   "metadata": {},
   "outputs": [
    {
     "data": {
      "text/plain": [
       "array([-0.12802338, -0.96834224, -0.86229737, -0.94113888, -0.508422  ])"
      ]
     },
     "execution_count": 9,
     "metadata": {},
     "output_type": "execute_result"
    }
   ],
   "source": [
    "from sklearn.kernel_ridge import KernelRidge\n",
    "krr = KernelRidge()\n",
    "cross_val_score(krr, X, y, scoring='r2')"
   ]
  },
  {
   "cell_type": "markdown",
   "metadata": {},
   "source": [
    "XGBoost and SVR do fairly terribly on the PIs."
   ]
  }
 ],
 "metadata": {
  "interpreter": {
   "hash": "a383a95822d91644b7570f642668dbe20ac1d6a6b19d12abc679b491f2ae2937"
  },
  "kernelspec": {
   "display_name": "Python 3.8.3 64-bit ('base': conda)",
   "name": "python3"
  },
  "language_info": {
   "codemirror_mode": {
    "name": "ipython",
    "version": 3
   },
   "file_extension": ".py",
   "mimetype": "text/x-python",
   "name": "python",
   "nbconvert_exporter": "python",
   "pygments_lexer": "ipython3",
   "version": "3.8.3"
  }
 },
 "nbformat": 4,
 "nbformat_minor": 4
}
